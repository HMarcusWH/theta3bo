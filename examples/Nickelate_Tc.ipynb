{
  "cells": [
    {
      "cell_type": "markdown",
      "metadata": {},
      "source": [
        "# Nickelate Tc \u2014 \u03b8\u2034 v2.1 demo\n",
        "This notebook instantiates the config, validates it, and sketches the BO loop (skeleton)."
      ]
    },
    {
      "cell_type": "code",
      "metadata": {},
      "execution_count": null,
      "outputs": [],
      "source": [
        "import json, os\n",
        "from theta3bo.metric import Theta3V2\n",
        "from theta3bo.engine import BOSession\n",
        "spec = json.load(open('../configs/example_config.json'))\n",
        "m = Theta3V2(spec)\n",
        "sess = BOSession(spec, feature_names=m._build_feature_names())\n",
        "print('backend:', sess.set_backend(n=200, p=len(m._build_feature_names()), config=spec))\n",
        "print('noise_ratio placeholder:', sess.estimate_noise_ratio([1,1,1,1],[0,0,1,1]))\n",
        "ax = sess.plot_feature_importance(top_k=5)\n"
      ]
    }
  ],
  "metadata": {
    "language_info": {
      "name": "python"
    },
    "kernelspec": {
      "name": "python3",
      "display_name": "Python 3"
    }
  },
  "nbformat": 4,
  "nbformat_minor": 5
}