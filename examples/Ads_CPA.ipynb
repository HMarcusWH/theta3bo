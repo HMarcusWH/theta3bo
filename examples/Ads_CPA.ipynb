{
  "cells": [
    {
      "cell_type": "markdown",
      "metadata": {},
      "source": [
        "# Ads CPA \u2014 \u03b8\u2034 v2.1 demo\n",
        "Sketch of adverts use-case with embeddings + constraints + async notes."
      ]
    },
    {
      "cell_type": "code",
      "metadata": {},
      "execution_count": null,
      "outputs": [],
      "source": [
        "import json\n",
        "from theta3bo.metric import Theta3V2\n",
        "from theta3bo.engine import BOSession\n",
        "spec = json.load(open('../configs/example_config.json'))\n",
        "spec['objectives'] = [{'name':'CPA','goal':'minimize'}]\n",
        "m = Theta3V2(spec)\n",
        "sess = BOSession(spec, feature_names=m._build_feature_names())\n",
        "sess.set_backend(n=10000, p=len(m._build_feature_names()), config=spec)\n",
        "sess.logs['fantasy_seed'] = 9012\n",
        "print('async fantasy seed:', sess.logs['fantasy_seed'])\n"
      ]
    }
  ],
  "metadata": {
    "language_info": {
      "name": "python"
    },
    "kernelspec": {
      "name": "python3",
      "display_name": "Python 3"
    }
  },
  "nbformat": 4,
  "nbformat_minor": 5
}